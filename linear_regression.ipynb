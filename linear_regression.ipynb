{
  "nbformat": 4,
  "nbformat_minor": 0,
  "metadata": {
    "colab": {
      "name": "P05-19921122.ipynb",
      "provenance": [],
      "collapsed_sections": []
    },
    "kernelspec": {
      "name": "python3",
      "display_name": "Python 3"
    },
    "language_info": {
      "name": "python"
    }
  },
  "cells": [
    {
      "cell_type": "markdown",
      "metadata": {
        "id": "78LfVKecS05H"
      },
      "source": [
        "Identitas"
      ]
    },
    {
      "cell_type": "code",
      "metadata": {
        "id": "4ja1s877StaZ"
      },
      "source": [
        "# Nama      : Salma Sari JUliani\n",
        "# NIM       : 19921122\n",
        "# Deskripsi : Praktikum Pengenalan Komputasi 5"
      ],
      "execution_count": null,
      "outputs": []
    },
    {
      "cell_type": "markdown",
      "metadata": {
        "id": "eVErz2XFS60T"
      },
      "source": [
        "Code"
      ]
    },
    {
      "cell_type": "code",
      "metadata": {
        "id": "UwRJNlA_S7nG"
      },
      "source": [
        "# Import Data\n",
        "import numpy as np\n",
        "import pandas as pd\n",
        "import matplotlib.pyplot as plt\n",
        "from sklearn.linear_model import LinearRegression\n",
        "\n",
        "data_frame = pd.read_csv('pokemon.csv')"
      ],
      "execution_count": null,
      "outputs": []
    },
    {
      "cell_type": "code",
      "metadata": {
        "id": "kMxrsCVwX7l4"
      },
      "source": [
        "# 1. Membaca 5 entri pertama data menggunakan .head()\n",
        "data_frame.head()"
      ],
      "execution_count": null,
      "outputs": []
    },
    {
      "cell_type": "code",
      "metadata": {
        "id": "yBe000qVYQEL"
      },
      "source": [
        "# 2. Scatter plot data dengan base_experience sebagai prediktor dan total_points sebagai respons\n",
        "plt.scatter(data_frame['base_experience'], data_frame['total_points'], color='lightgreen')\n",
        "\n",
        "plt.xlabel('Base Experience')\n",
        "plt.ylabel('Total Points')\n",
        "plt.title('Scatter Plot Base Experience vs Total Points')\n",
        "plt.show()"
      ],
      "execution_count": null,
      "outputs": []
    },
    {
      "cell_type": "code",
      "metadata": {
        "id": "WHMurQMqZFxr"
      },
      "source": [
        "# 3. Box plot masing-masing data prediktor dan data respons\n",
        "\n",
        "# Box plot base_experience\n",
        "plt.boxplot(data_frame['base_experience'])\n",
        "plt.title('Box Plot Base Experience')\n",
        "plt.show()"
      ],
      "execution_count": null,
      "outputs": []
    },
    {
      "cell_type": "code",
      "metadata": {
        "id": "1_eWzDLQZc-x"
      },
      "source": [
        "# Box plot total_points\n",
        "plt.boxplot(data_frame['total_points'])\n",
        "plt.title('Box Plot Total Points')\n",
        "plt.show()"
      ],
      "execution_count": null,
      "outputs": []
    },
    {
      "cell_type": "code",
      "metadata": {
        "id": "-4E7JOXfZmhc"
      },
      "source": [
        "# 4. Model regresi linear\n",
        "x = data_frame['base_experience'].values.reshape(-1,1)\n",
        "y = data_frame['total_points'].values.reshape(-1,1)\n",
        "\n",
        "hahaha = LinearRegression().fit(x,y)\n",
        "\n",
        "print('a:', hahaha.intercept_)\n",
        "print('b:', hahaha.coef_)\n",
        "print('')\n",
        "print('Maka, didapatkan persamaan :')\n",
        "print('y = 222.26489544 + 1.38662539x')"
      ],
      "execution_count": null,
      "outputs": []
    },
    {
      "cell_type": "code",
      "metadata": {
        "id": "G7m9dj9baPgM"
      },
      "source": [
        "# 5. Visualisasi model regresi linear dan scatter plot data asli\n",
        "regresi = hahaha.predict(x)\n",
        "\n",
        "plt.scatter(x,y, color='pink')\n",
        "plt.plot(x, regresi, color='lightgreen')\n",
        "plt.xlabel('Base Experience')\n",
        "plt.ylabel('Total Points')\n",
        "plt.title('Plot Base Experience vs Total Points')\n",
        "plt.show()"
      ],
      "execution_count": null,
      "outputs": []
    },
    {
      "cell_type": "code",
      "metadata": {
        "id": "olvJfKpHahM3"
      },
      "source": [
        "# 6. nilai R-squared \n",
        "print('R-squared: ', hahaha.score(x,y))\n",
        "\n",
        "# karena nilai R-squared mendekati 1, maka model regresi yang saya gunakan \n",
        "# sudah baik dan tepat "
      ],
      "execution_count": null,
      "outputs": []
    },
    {
      "cell_type": "code",
      "metadata": {
        "id": "dn6DUyyIanH6"
      },
      "source": [
        "# 7. prediksi total_points untuk base_experience sebesar 93, 95, 80, 101, 104, 97, 102, 91, 88, 100\n",
        "y_prediksi = hahaha.predict([[93], [95], [80], [101], [104], [97], [102], [91], [88], [100]])\n",
        "print(y_prediksi)"
      ],
      "execution_count": null,
      "outputs": []
    },
    {
      "cell_type": "code",
      "metadata": {
        "id": "bhzFfn4Dbs53"
      },
      "source": [
        "# Prediksi total_points untuk base_experience sebesar 93, 95, 80, 101, 104, 97, 102, 91, 88, 100 \n",
        "# dengan cara manual \n",
        "y1 = 222.26489544 + 1.38662539*93\n",
        "y2 = 222.26489544 + 1.38662539*95\n",
        "y3 = 222.26489544 + 1.38662539*80\n",
        "y4 = 222.26489544 + 1.38662539*101\n",
        "y5 = 222.26489544 + 1.38662539*104\n",
        "y6 = 222.26489544 + 1.38662539*97\n",
        "y7 = 222.26489544 + 1.38662539*102\n",
        "y8 = 222.26489544 + 1.38662539*91\n",
        "y9 = 222.26489544 + 1.38662539*88\n",
        "y10 = 222.26489544 + 1.38662539*100\n",
        "\n",
        "print('saat x = 93, nilai y adalah:', y1)\n",
        "print('saat x = 95, nilai y adalah:', y2)\n",
        "print('saat x = 80, nilai y adalah:', y3)\n",
        "print('saat x = 101, nilai y adalah:', y4)\n",
        "print('saat x = 104, nilai y adalah:', y5)\n",
        "print('saat x = 97, nilai y adalah:', y6)\n",
        "print('saat x = 102, nilai y adalah:', y7)\n",
        "print('saat x = 91, nilai y adalah:', y8)\n",
        "print('saat x = 88, nilai y adalah:', y9)\n",
        "print('saat x = 100, nilai y adalah:', y10)"
      ],
      "execution_count": null,
      "outputs": []
    },
    {
      "cell_type": "code",
      "metadata": {
        "id": "1Bv4VkC7cm0C"
      },
      "source": [
        "# 8. Scatter plot seluruh pasangan prediktor-respons\n",
        "plt.scatter([[93], [95], [80], [101], [104], [97], [102], [91], [88], [100]], y_prediksi, color='violet')\n",
        "\n",
        "plt.xlabel('Base Experience')\n",
        "plt.ylabel('Total Points')\n",
        "plt.title('Scatter Plot Base Experience vs Total Points')\n",
        "plt.show()"
      ],
      "execution_count": null,
      "outputs": []
    },
    {
      "cell_type": "code",
      "metadata": {
        "id": "YD7VhFK7eRH6"
      },
      "source": [
        "# 9. Data frame baru \n",
        "hahahaha = {'x_predictor' : [93, 95, 80, 101, 104, 97, 102, 91, 88, 100],\n",
        "         'y_predictor' : [351.22105705, 353.99430784, 333.19492693, 362.3140602, 366.47393638, 356.76755862, 363.70068559, 348.44780626, 344.28793008, 360.9274348]}\n",
        "data_frame_baru = pd.DataFrame(hahahaha)\n",
        "data_frame_baru.head()"
      ],
      "execution_count": null,
      "outputs": []
    },
    {
      "cell_type": "code",
      "metadata": {
        "id": "zDoRdOgYmoxa"
      },
      "source": [
        "# 10. Menulis data ke Excel\n",
        "writer = pd.ExcelWriter('data_new_replace.xlsx')\n",
        "data_frame.to_excel(writer, \"Data Asli\")\n",
        "data_frame_baru.to_excel(writer, \"Data Olahan\")\n",
        "writer.save()"
      ],
      "execution_count": null,
      "outputs": []
    }
  ]
}