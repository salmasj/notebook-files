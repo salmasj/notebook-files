{
 "cells": [
  {
   "cell_type": "code",
   "execution_count": 33,
   "id": "2c01f7c4",
   "metadata": {},
   "outputs": [
    {
     "name": "stdout",
     "output_type": "stream",
     "text": [
      "   rank            country  gold  silver  bronze  total\n",
      "0     1              China   132      92      65    289\n",
      "1     2              Japan    75      56      74    205\n",
      "2     3  Republic of Korea    49      58      70    177\n",
      "3     4          Indonesia    31      24      43     98\n",
      "4     5         Uzbekistan    21      24      25     70\n",
      "5     6            IR Iran    20      20      22     62\n",
      "6     7     Chinese Taipei    17      19      31     67\n",
      "7     8              India    15      24      30     69\n",
      "8     9         Kazakhstan    15      17      44     76\n",
      "9    10          DPR Korea    12      12      13     37\n"
     ]
    }
   ],
   "source": [
    "# Latihan 1 : Select Data\n",
    "\n",
    "import matplotlib as plt\n",
    "import pandas as pd\n",
    "data_frame = pd.read_csv(\"C:/Programming Things/Data/medali.csv\")\n",
    "\n",
    "# Data 10 negara ranking pertama\n",
    "print(data_frame[0:10])\n"
   ]
  },
  {
   "cell_type": "code",
   "execution_count": 34,
   "id": "8c8fc397",
   "metadata": {},
   "outputs": [
    {
     "name": "stdout",
     "output_type": "stream",
     "text": [
      "                 country\n",
      "10               Bahrain\n",
      "11              Thailand\n",
      "12       Hong Kong China\n",
      "13              Malaysia\n",
      "14                 Qatar\n",
      "15              Mongolia\n",
      "16               Vietnam\n",
      "17             Singapore\n",
      "18           Philippines\n",
      "19  United Arab Emirates\n"
     ]
    }
   ],
   "source": [
    "# Data nama negara rangking 11 s.d. 20\n",
    "print(data_frame.loc[10:19, \"country\":\"country\"])"
   ]
  },
  {
   "cell_type": "code",
   "execution_count": 35,
   "id": "76d4a38a",
   "metadata": {
    "scrolled": true
   },
   "outputs": [
    {
     "name": "stdout",
     "output_type": "stream",
     "text": [
      "    rank                  country  gold  silver  bronze  total\n",
      "24    25  Kingdom of Saudi Arabia     1       2       3      6\n",
      "25    26              Macau China     1       2       2      5\n",
      "26    27                     Iraq     1       2       0      3\n",
      "27    28                    Korea     1       1       2      4\n",
      "28    28                  Lebanon     1       1       2      4\n"
     ]
    }
   ],
   "source": [
    "# Data negara yang mendapatkan 1 medali emas\n",
    "print(data_frame.loc[data_frame[\"gold\"] == 1])"
   ]
  },
  {
   "cell_type": "code",
   "execution_count": 36,
   "id": "e7ac1bdd",
   "metadata": {},
   "outputs": [
    {
     "name": "stdout",
     "output_type": "stream",
     "text": [
      "    rank      country  gold  silver  bronze  total\n",
      "16    17      Vietnam     4      16      18     38\n",
      "17    18    Singapore     4       4      14     22\n",
      "18    19  Philippines     4       2      15     21\n"
     ]
    }
   ],
   "source": [
    "# Data negara yang memperoleh medali keseluruhan > 20 dan perolehan medali emas < 5\n",
    "print(data_frame.loc[(data_frame[\"total\"] > 20) & (data_frame[\"gold\"] < 5)])"
   ]
  },
  {
   "cell_type": "code",
   "execution_count": 37,
   "id": "738e6b17",
   "metadata": {},
   "outputs": [
    {
     "data": {
      "text/html": [
       "<div>\n",
       "<style scoped>\n",
       "    .dataframe tbody tr th:only-of-type {\n",
       "        vertical-align: middle;\n",
       "    }\n",
       "\n",
       "    .dataframe tbody tr th {\n",
       "        vertical-align: top;\n",
       "    }\n",
       "\n",
       "    .dataframe thead th {\n",
       "        text-align: right;\n",
       "    }\n",
       "</style>\n",
       "<table border=\"1\" class=\"dataframe\">\n",
       "  <thead>\n",
       "    <tr style=\"text-align: right;\">\n",
       "      <th></th>\n",
       "      <th>rank</th>\n",
       "      <th>country</th>\n",
       "      <th>gold</th>\n",
       "      <th>silver</th>\n",
       "      <th>bronze</th>\n",
       "      <th>total</th>\n",
       "    </tr>\n",
       "  </thead>\n",
       "  <tbody>\n",
       "    <tr>\n",
       "      <th>1</th>\n",
       "      <td>2</td>\n",
       "      <td>Japan</td>\n",
       "      <td>75</td>\n",
       "      <td>56</td>\n",
       "      <td>74</td>\n",
       "      <td>205</td>\n",
       "    </tr>\n",
       "  </tbody>\n",
       "</table>\n",
       "</div>"
      ],
      "text/plain": [
       "   rank country  gold  silver  bronze  total\n",
       "1     2   Japan    75      56      74    205"
      ]
     },
     "execution_count": 37,
     "metadata": {},
     "output_type": "execute_result"
    }
   ],
   "source": [
    "# Latihan 2 : Maximum and Minimum Value\n",
    "\n",
    "# Data negara dengan perolehan perunggu terbanyak\n",
    "max_bronze = data_frame[\"bronze\"]. idxmax()\n",
    "data_frame[max_bronze:max_bronze+1]\n"
   ]
  },
  {
   "cell_type": "code",
   "execution_count": 38,
   "id": "72e54f7f",
   "metadata": {},
   "outputs": [
    {
     "data": {
      "text/html": [
       "<div>\n",
       "<style scoped>\n",
       "    .dataframe tbody tr th:only-of-type {\n",
       "        vertical-align: middle;\n",
       "    }\n",
       "\n",
       "    .dataframe tbody tr th {\n",
       "        vertical-align: top;\n",
       "    }\n",
       "\n",
       "    .dataframe thead th {\n",
       "        text-align: right;\n",
       "    }\n",
       "</style>\n",
       "<table border=\"1\" class=\"dataframe\">\n",
       "  <thead>\n",
       "    <tr style=\"text-align: right;\">\n",
       "      <th></th>\n",
       "      <th>rank</th>\n",
       "      <th>country</th>\n",
       "      <th>gold</th>\n",
       "      <th>silver</th>\n",
       "      <th>bronze</th>\n",
       "      <th>total</th>\n",
       "    </tr>\n",
       "  </thead>\n",
       "  <tbody>\n",
       "    <tr>\n",
       "      <th>26</th>\n",
       "      <td>27</td>\n",
       "      <td>Iraq</td>\n",
       "      <td>1</td>\n",
       "      <td>2</td>\n",
       "      <td>0</td>\n",
       "      <td>3</td>\n",
       "    </tr>\n",
       "    <tr>\n",
       "      <th>32</th>\n",
       "      <td>33</td>\n",
       "      <td>Nepal</td>\n",
       "      <td>0</td>\n",
       "      <td>1</td>\n",
       "      <td>0</td>\n",
       "      <td>1</td>\n",
       "    </tr>\n",
       "    <tr>\n",
       "      <th>33</th>\n",
       "      <td>33</td>\n",
       "      <td>Oman</td>\n",
       "      <td>0</td>\n",
       "      <td>1</td>\n",
       "      <td>0</td>\n",
       "      <td>1</td>\n",
       "    </tr>\n",
       "  </tbody>\n",
       "</table>\n",
       "</div>"
      ],
      "text/plain": [
       "    rank country  gold  silver  bronze  total\n",
       "26    27    Iraq     1       2       0      3\n",
       "32    33   Nepal     0       1       0      1\n",
       "33    33    Oman     0       1       0      1"
      ]
     },
     "execution_count": 38,
     "metadata": {},
     "output_type": "execute_result"
    }
   ],
   "source": [
    "# Data negara dengan perolehan perunggu paling sedikit namun total perolehan medali > 0\n",
    "\n",
    "data_frame.loc[(data_frame[\"total\"] > 0) & (data_frame[\"bronze\"] == data_frame[\"bronze\"].min())]"
   ]
  },
  {
   "cell_type": "code",
   "execution_count": 39,
   "id": "b1bb3d3e",
   "metadata": {},
   "outputs": [
    {
     "name": "stdout",
     "output_type": "stream",
     "text": [
      "    rank                  country  gold  silver  bronze  total\n",
      "0      1                    China   132      92      65    289\n",
      "1      2                    Japan    75      56      74    205\n",
      "2      3        Republic of Korea    49      58      70    177\n",
      "3      4                Indonesia    31      24      43     98\n",
      "4      5               Uzbekistan    21      24      25     70\n",
      "5      6                  IR Iran    20      20      22     62\n",
      "6      7           Chinese Taipei    17      19      31     67\n",
      "8      9               Kazakhstan    15      17      44     76\n",
      "7      8                    India    15      24      30     69\n",
      "10    11                  Bahrain    12       7       7     26\n",
      "9     10                DPR Korea    12      12      13     37\n",
      "11    12                 Thailand    11      16      46     73\n",
      "12    13          Hong Kong China     8      18      20     46\n",
      "13    14                 Malaysia     7      13      16     36\n",
      "14    15                    Qatar     6       4       3     13\n",
      "15    16                 Mongolia     5       9      11     25\n",
      "18    19              Philippines     4       2      15     21\n",
      "17    18                Singapore     4       4      14     22\n",
      "16    17                  Vietnam     4      16      18     38\n",
      "20    21                   Kuwait     3       1       2      6\n",
      "19    20     United Arab Emirates     3       6       5     14\n",
      "23    24                 Cambodia     2       0       1      3\n",
      "22    23                   Jordan     2       1       9     12\n",
      "21    22               Kyrgyzstan     2       6      12     20\n",
      "27    28                    Korea     1       1       2      4\n",
      "28    28                  Lebanon     1       1       2      4\n",
      "24    25  Kingdom of Saudi Arabia     1       2       3      6\n",
      "25    26              Macau China     1       2       2      5\n",
      "26    27                     Iraq     1       2       0      3\n",
      "34    35                 Pakistan     0       0       4      4\n",
      "35    36              Afghanistan     0       0       2      2\n",
      "36    37                  Myanmar     0       0       2      2\n",
      "37    38                    Syria     0       0       1      1\n",
      "38    39               Bangladesh     0       0       0      0\n",
      "39    39                   Bhutan     0       0       0      0\n",
      "40    39        Brunei Darussalam     0       0       0      0\n",
      "41    39               East Timor     0       0       0      0\n",
      "42    39                 Maldives     0       0       0      0\n",
      "43    39                Palestine     0       0       0      0\n",
      "44    39                Sri Lanka     0       0       0      0\n",
      "45    39                    Yemen     0       0       0      0\n",
      "31    32             Turkmenistan     0       1       2      3\n",
      "32    33                    Nepal     0       1       0      1\n",
      "33    33                     Oman     0       1       0      1\n",
      "30    31                  Lao PDR     0       2       3      5\n",
      "29    30               Tajikistan     0       4       3      7\n"
     ]
    }
   ],
   "source": [
    "# Latihan 3 : Sort\n",
    "\n",
    "print(data_frame.sort_values([\"gold\", \"silver\"], ascending=[0, 1]))"
   ]
  },
  {
   "cell_type": "code",
   "execution_count": 40,
   "id": "18bfc0c0",
   "metadata": {},
   "outputs": [
    {
     "data": {
      "text/plain": [
       "0      8\n",
       "4      3\n",
       "1      3\n",
       "3      3\n",
       "5      2\n",
       "2      2\n",
       "6      2\n",
       "12     1\n",
       "38     1\n",
       "25     1\n",
       "37     1\n",
       "46     1\n",
       "36     1\n",
       "98     1\n",
       "289    1\n",
       "177    1\n",
       "26     1\n",
       "21     1\n",
       "22     1\n",
       "20     1\n",
       "14     1\n",
       "205    1\n",
       "76     1\n",
       "73     1\n",
       "7      1\n",
       "70     1\n",
       "69     1\n",
       "67     1\n",
       "13     1\n",
       "62     1\n",
       "Name: total, dtype: int64"
      ]
     },
     "execution_count": 40,
     "metadata": {},
     "output_type": "execute_result"
    }
   ],
   "source": [
    "# Latihan 4 : Counting Frequency\n",
    "\n",
    "data_frame[\"total\"].value_counts()"
   ]
  },
  {
   "cell_type": "code",
   "execution_count": 41,
   "id": "670e8c9e",
   "metadata": {},
   "outputs": [
    {
     "data": {
      "text/plain": [
       "0.9621838780715413"
      ]
     },
     "execution_count": 41,
     "metadata": {},
     "output_type": "execute_result"
    }
   ],
   "source": [
    "# Latihan 5 : Correlation\n",
    "\n",
    "# Korelasi gold vs silver\n",
    "data_frame[\"gold\"].corr(data_frame[\"silver\"])"
   ]
  },
  {
   "cell_type": "code",
   "execution_count": 65,
   "id": "375736cb",
   "metadata": {},
   "outputs": [
    {
     "data": {
      "text/plain": [
       "<AxesSubplot:xlabel='gold', ylabel='silver'>"
      ]
     },
     "execution_count": 65,
     "metadata": {},
     "output_type": "execute_result"
    },
    {
     "data": {
      "image/png": "[encoded data removed]",
      "text/plain": [
       "<Figure size 432x288 with 1 Axes>"
      ]
     },
     "metadata": {
      "needs_background": "light"
     },
     "output_type": "display_data"
    }
   ],
   "source": [
    "data_frame.plot(kind='scatter', x='gold', y='silver', color='blue')"
   ]
  },
  {
   "cell_type": "code",
   "execution_count": 42,
   "id": "6850cd7e",
   "metadata": {},
   "outputs": [
    {
     "data": {
      "text/plain": [
       "0.8995589551600954"
      ]
     },
     "execution_count": 42,
     "metadata": {},
     "output_type": "execute_result"
    }
   ],
   "source": [
    "# Korelasi silver vs bronze\n",
    "data_frame[\"silver\"].corr(data_frame[\"bronze\"])"
   ]
  },
  {
   "cell_type": "code",
   "execution_count": 72,
   "id": "92b64875",
   "metadata": {},
   "outputs": [
    {
     "data": {
      "text/plain": [
       "<AxesSubplot:xlabel='silver', ylabel='bronze'>"
      ]
     },
     "execution_count": 72,
     "metadata": {},
     "output_type": "execute_result"
    },
    {
     "data": {
      "image/png": "[encoded data removed]",
      "text/plain": [
       "<Figure size 432x288 with 1 Axes>"
      ]
     },
     "metadata": {
      "needs_background": "light"
     },
     "output_type": "display_data"
    }
   ],
   "source": [
    "data_frame.plot(kind='scatter', x='silver', y='bronze', color='green')"
   ]
  },
  {
   "cell_type": "code",
   "execution_count": 43,
   "id": "ab2e95d3",
   "metadata": {},
   "outputs": [
    {
     "data": {
      "text/plain": [
       "0.8174035796391357"
      ]
     },
     "execution_count": 43,
     "metadata": {},
     "output_type": "execute_result"
    }
   ],
   "source": [
    "# Korelasi gold vs bronze\n",
    "data_frame[\"gold\"].corr(data_frame[\"bronze\"])"
   ]
  },
  {
   "cell_type": "code",
   "execution_count": 73,
   "id": "52363faa",
   "metadata": {},
   "outputs": [
    {
     "data": {
      "text/plain": [
       "<AxesSubplot:xlabel='gold', ylabel='bronze'>"
      ]
     },
     "execution_count": 73,
     "metadata": {},
     "output_type": "execute_result"
    },
    {
     "data": {
      "image/png": "[encoded data removed]",
      "text/plain": [
       "<Figure size 432x288 with 1 Axes>"
      ]
     },
     "metadata": {
      "needs_background": "light"
     },
     "output_type": "display_data"
    }
   ],
   "source": [
    "data_frame.plot(kind='scatter', x='gold', y='bronze', color='red')"
   ]
  },
  {
   "cell_type": "code",
   "execution_count": 44,
   "id": "bdc6dc41",
   "metadata": {},
   "outputs": [
    {
     "data": {
      "text/plain": [
       "0.9898146414025735"
      ]
     },
     "execution_count": 44,
     "metadata": {},
     "output_type": "execute_result"
    }
   ],
   "source": [
    "# Korelasi silver vs total\n",
    "data_frame[\"silver\"].corr(data_frame[\"total\"])"
   ]
  },
  {
   "cell_type": "code",
   "execution_count": 75,
   "id": "5c091301",
   "metadata": {},
   "outputs": [
    {
     "data": {
      "text/plain": [
       "<AxesSubplot:xlabel='silver', ylabel='total'>"
      ]
     },
     "execution_count": 75,
     "metadata": {},
     "output_type": "execute_result"
    },
    {
     "data": {
      "image/png": "[encoded data removed]",
      "text/plain": [
       "<Figure size 432x288 with 1 Axes>"
      ]
     },
     "metadata": {
      "needs_background": "light"
     },
     "output_type": "display_data"
    }
   ],
   "source": [
    "data_frame.plot(kind='scatter', x='silver', y='total', color='brown')"
   ]
  },
  {
   "cell_type": "code",
   "execution_count": 45,
   "id": "630d3290",
   "metadata": {},
   "outputs": [
    {
     "data": {
      "text/plain": [
       "0.9352302376948144"
      ]
     },
     "execution_count": 45,
     "metadata": {},
     "output_type": "execute_result"
    }
   ],
   "source": [
    "# Korelasi bronze vs total\n",
    "data_frame[\"bronze\"].corr(data_frame[\"total\"])"
   ]
  },
  {
   "cell_type": "code",
   "execution_count": 77,
   "id": "042d27e5",
   "metadata": {},
   "outputs": [
    {
     "data": {
      "text/plain": [
       "<AxesSubplot:xlabel='bronze', ylabel='total'>"
      ]
     },
     "execution_count": 77,
     "metadata": {},
     "output_type": "execute_result"
    },
    {
     "data": {
      "image/png": "[encoded data removed]",
      "text/plain": [
       "<Figure size 432x288 with 1 Axes>"
      ]
     },
     "metadata": {
      "needs_background": "light"
     },
     "output_type": "display_data"
    }
   ],
   "source": [
    "data_frame.plot(kind='scatter', x='bronze', y='total', color='purple')"
   ]
  },
  {
   "cell_type": "code",
   "execution_count": 25,
   "id": "e498bffd",
   "metadata": {},
   "outputs": [
    {
     "data": {
      "text/html": [
       "<div>\n",
       "<style scoped>\n",
       "    .dataframe tbody tr th:only-of-type {\n",
       "        vertical-align: middle;\n",
       "    }\n",
       "\n",
       "    .dataframe tbody tr th {\n",
       "        vertical-align: top;\n",
       "    }\n",
       "\n",
       "    .dataframe thead th {\n",
       "        text-align: right;\n",
       "    }\n",
       "</style>\n",
       "<table border=\"1\" class=\"dataframe\">\n",
       "  <thead>\n",
       "    <tr style=\"text-align: right;\">\n",
       "      <th></th>\n",
       "      <th>rank</th>\n",
       "      <th>gold</th>\n",
       "      <th>silver</th>\n",
       "      <th>bronze</th>\n",
       "      <th>total</th>\n",
       "    </tr>\n",
       "  </thead>\n",
       "  <tbody>\n",
       "    <tr>\n",
       "      <th>rank</th>\n",
       "      <td>1.000000</td>\n",
       "      <td>-0.623680</td>\n",
       "      <td>-0.720963</td>\n",
       "      <td>-0.796360</td>\n",
       "      <td>-0.735394</td>\n",
       "    </tr>\n",
       "    <tr>\n",
       "      <th>gold</th>\n",
       "      <td>-0.623680</td>\n",
       "      <td>1.000000</td>\n",
       "      <td>0.962184</td>\n",
       "      <td>0.817404</td>\n",
       "      <td>0.965647</td>\n",
       "    </tr>\n",
       "    <tr>\n",
       "      <th>silver</th>\n",
       "      <td>-0.720963</td>\n",
       "      <td>0.962184</td>\n",
       "      <td>1.000000</td>\n",
       "      <td>0.899559</td>\n",
       "      <td>0.989815</td>\n",
       "    </tr>\n",
       "    <tr>\n",
       "      <th>bronze</th>\n",
       "      <td>-0.796360</td>\n",
       "      <td>0.817404</td>\n",
       "      <td>0.899559</td>\n",
       "      <td>1.000000</td>\n",
       "      <td>0.935230</td>\n",
       "    </tr>\n",
       "    <tr>\n",
       "      <th>total</th>\n",
       "      <td>-0.735394</td>\n",
       "      <td>0.965647</td>\n",
       "      <td>0.989815</td>\n",
       "      <td>0.935230</td>\n",
       "      <td>1.000000</td>\n",
       "    </tr>\n",
       "  </tbody>\n",
       "</table>\n",
       "</div>"
      ],
      "text/plain": [
       "            rank      gold    silver    bronze     total\n",
       "rank    1.000000 -0.623680 -0.720963 -0.796360 -0.735394\n",
       "gold   -0.623680  1.000000  0.962184  0.817404  0.965647\n",
       "silver -0.720963  0.962184  1.000000  0.899559  0.989815\n",
       "bronze -0.796360  0.817404  0.899559  1.000000  0.935230\n",
       "total  -0.735394  0.965647  0.989815  0.935230  1.000000"
      ]
     },
     "execution_count": 25,
     "metadata": {},
     "output_type": "execute_result"
    }
   ],
   "source": [
    "# Korelasi Pearson\n",
    "data = data_frame.corr()\n",
    "data"
   ]
  },
  {
   "cell_type": "code",
   "execution_count": 26,
   "id": "b4c32752",
   "metadata": {},
   "outputs": [
    {
     "data": {
      "text/html": [
       "<style  type=\"text/css\" >\n",
       "#T_2b321_row0_col0,#T_2b321_row1_col1,#T_2b321_row2_col2,#T_2b321_row3_col3,#T_2b321_row4_col4{\n",
       "            background-color:  #b40426;\n",
       "            color:  #f1f1f1;\n",
       "        }#T_2b321_row0_col1,#T_2b321_row0_col2,#T_2b321_row0_col3,#T_2b321_row0_col4,#T_2b321_row3_col0{\n",
       "            background-color:  #3b4cc0;\n",
       "            color:  #f1f1f1;\n",
       "        }#T_2b321_row1_col0{\n",
       "            background-color:  #5875e1;\n",
       "            color:  #000000;\n",
       "        }#T_2b321_row1_col2,#T_2b321_row1_col4,#T_2b321_row2_col1,#T_2b321_row4_col1{\n",
       "            background-color:  #bb1b2c;\n",
       "            color:  #f1f1f1;\n",
       "        }#T_2b321_row1_col3{\n",
       "            background-color:  #d75445;\n",
       "            color:  #000000;\n",
       "        }#T_2b321_row2_col0{\n",
       "            background-color:  #465ecf;\n",
       "            color:  #f1f1f1;\n",
       "        }#T_2b321_row2_col3,#T_2b321_row3_col2{\n",
       "            background-color:  #c83836;\n",
       "            color:  #f1f1f1;\n",
       "        }#T_2b321_row2_col4,#T_2b321_row4_col2{\n",
       "            background-color:  #b50927;\n",
       "            color:  #f1f1f1;\n",
       "        }#T_2b321_row3_col1{\n",
       "            background-color:  #d95847;\n",
       "            color:  #000000;\n",
       "        }#T_2b321_row3_col4,#T_2b321_row4_col3{\n",
       "            background-color:  #c12b30;\n",
       "            color:  #f1f1f1;\n",
       "        }#T_2b321_row4_col0{\n",
       "            background-color:  #445acc;\n",
       "            color:  #f1f1f1;\n",
       "        }</style><table id=\"T_2b321_\" ><thead>    <tr>        <th class=\"blank level0\" ></th>        <th class=\"col_heading level0 col0\" >rank</th>        <th class=\"col_heading level0 col1\" >gold</th>        <th class=\"col_heading level0 col2\" >silver</th>        <th class=\"col_heading level0 col3\" >bronze</th>        <th class=\"col_heading level0 col4\" >total</th>    </tr></thead><tbody>\n",
       "                <tr>\n",
       "                        <th id=\"T_2b321_level0_row0\" class=\"row_heading level0 row0\" >rank</th>\n",
       "                        <td id=\"T_2b321_row0_col0\" class=\"data row0 col0\" >1.000000</td>\n",
       "                        <td id=\"T_2b321_row0_col1\" class=\"data row0 col1\" >-0.623680</td>\n",
       "                        <td id=\"T_2b321_row0_col2\" class=\"data row0 col2\" >-0.720963</td>\n",
       "                        <td id=\"T_2b321_row0_col3\" class=\"data row0 col3\" >-0.796360</td>\n",
       "                        <td id=\"T_2b321_row0_col4\" class=\"data row0 col4\" >-0.735394</td>\n",
       "            </tr>\n",
       "            <tr>\n",
       "                        <th id=\"T_2b321_level0_row1\" class=\"row_heading level0 row1\" >gold</th>\n",
       "                        <td id=\"T_2b321_row1_col0\" class=\"data row1 col0\" >-0.623680</td>\n",
       "                        <td id=\"T_2b321_row1_col1\" class=\"data row1 col1\" >1.000000</td>\n",
       "                        <td id=\"T_2b321_row1_col2\" class=\"data row1 col2\" >0.962184</td>\n",
       "                        <td id=\"T_2b321_row1_col3\" class=\"data row1 col3\" >0.817404</td>\n",
       "                        <td id=\"T_2b321_row1_col4\" class=\"data row1 col4\" >0.965647</td>\n",
       "            </tr>\n",
       "            <tr>\n",
       "                        <th id=\"T_2b321_level0_row2\" class=\"row_heading level0 row2\" >silver</th>\n",
       "                        <td id=\"T_2b321_row2_col0\" class=\"data row2 col0\" >-0.720963</td>\n",
       "                        <td id=\"T_2b321_row2_col1\" class=\"data row2 col1\" >0.962184</td>\n",
       "                        <td id=\"T_2b321_row2_col2\" class=\"data row2 col2\" >1.000000</td>\n",
       "                        <td id=\"T_2b321_row2_col3\" class=\"data row2 col3\" >0.899559</td>\n",
       "                        <td id=\"T_2b321_row2_col4\" class=\"data row2 col4\" >0.989815</td>\n",
       "            </tr>\n",
       "            <tr>\n",
       "                        <th id=\"T_2b321_level0_row3\" class=\"row_heading level0 row3\" >bronze</th>\n",
       "                        <td id=\"T_2b321_row3_col0\" class=\"data row3 col0\" >-0.796360</td>\n",
       "                        <td id=\"T_2b321_row3_col1\" class=\"data row3 col1\" >0.817404</td>\n",
       "                        <td id=\"T_2b321_row3_col2\" class=\"data row3 col2\" >0.899559</td>\n",
       "                        <td id=\"T_2b321_row3_col3\" class=\"data row3 col3\" >1.000000</td>\n",
       "                        <td id=\"T_2b321_row3_col4\" class=\"data row3 col4\" >0.935230</td>\n",
       "            </tr>\n",
       "            <tr>\n",
       "                        <th id=\"T_2b321_level0_row4\" class=\"row_heading level0 row4\" >total</th>\n",
       "                        <td id=\"T_2b321_row4_col0\" class=\"data row4 col0\" >-0.735394</td>\n",
       "                        <td id=\"T_2b321_row4_col1\" class=\"data row4 col1\" >0.965647</td>\n",
       "                        <td id=\"T_2b321_row4_col2\" class=\"data row4 col2\" >0.989815</td>\n",
       "                        <td id=\"T_2b321_row4_col3\" class=\"data row4 col3\" >0.935230</td>\n",
       "                        <td id=\"T_2b321_row4_col4\" class=\"data row4 col4\" >1.000000</td>\n",
       "            </tr>\n",
       "    </tbody></table>"
      ],
      "text/plain": [
       "<pandas.io.formats.style.Styler at 0x2883f2214f0>"
      ]
     },
     "execution_count": 26,
     "metadata": {},
     "output_type": "execute_result"
    }
   ],
   "source": [
    "data_frame.corr().style.background_gradient(cmap='coolwarm')"
   ]
  },
  {
   "cell_type": "code",
   "execution_count": null,
   "id": "91db5b9e",
   "metadata": {},
   "outputs": [],
   "source": []
  },
  {
   "cell_type": "code",
   "execution_count": null,
   "id": "e38b2979",
   "metadata": {},
   "outputs": [],
   "source": []
  }
 ],
 "metadata": {
  "kernelspec": {
   "display_name": "Python 3",
   "language": "python",
   "name": "python3"
  },
  "language_info": {
   "codemirror_mode": {
    "name": "ipython",
    "version": 3
   },
   "file_extension": ".py",
   "mimetype": "text/x-python",
   "name": "python",
   "nbconvert_exporter": "python",
   "pygments_lexer": "ipython3",
   "version": "3.8.8"
  }
 },
 "nbformat": 4,
 "nbformat_minor": 5
}
