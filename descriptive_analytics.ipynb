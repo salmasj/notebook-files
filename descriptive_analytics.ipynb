{
 "cells": [
  {
   "cell_type": "markdown",
   "id": "7ec69f66",
   "metadata": {},
   "source": [
    "# Identitas"
   ]
  },
  {
   "cell_type": "code",
   "execution_count": null,
   "id": "471ea53f",
   "metadata": {},
   "outputs": [],
   "source": [
    "# Nama      : Salma Sari Juliani\n",
    "# NIM       : 19921122\n",
    "# Deskripsi : Praktikum Pengenalan Komputasi Modul 3"
   ]
  },
  {
   "cell_type": "markdown",
   "id": "3396a2cd",
   "metadata": {},
   "source": [
    "# Code"
   ]
  },
  {
   "cell_type": "markdown",
   "id": "efb6097c",
   "metadata": {},
   "source": [
    "# Soal 1"
   ]
  },
  {
   "cell_type": "code",
   "execution_count": null,
   "id": "14a64e2c",
   "metadata": {},
   "outputs": [],
   "source": [
    "import pandas as pd\n",
    "data_frame = pd.read_csv(\"C:/Programming Things/Data/covid19.csv\")\n",
    "pd.set_option('display.max_columns', None)\n",
    "pd.set_option('display.max_rows' , None)"
   ]
  },
  {
   "cell_type": "code",
   "execution_count": null,
   "id": "0841004f",
   "metadata": {
    "scrolled": true
   },
   "outputs": [],
   "source": [
    "# 1. Data ke-10\n",
    "data_frame.loc[9]"
   ]
  },
  {
   "cell_type": "code",
   "execution_count": null,
   "id": "09c99bef",
   "metadata": {
    "scrolled": true
   },
   "outputs": [],
   "source": [
    "# 2. Data ke-115 hingga ke 125\n",
    "data_frame[114:125]"
   ]
  },
  {
   "cell_type": "code",
   "execution_count": null,
   "id": "539c4e4a",
   "metadata": {},
   "outputs": [],
   "source": [
    "# 3. Data kolom New Cases hingga Total Recovered dengan indeks 20\n",
    "print(data_frame.loc[20, \"New Cases\":\"Total Recovered\"])"
   ]
  },
  {
   "cell_type": "code",
   "execution_count": null,
   "id": "1d56cb6e",
   "metadata": {},
   "outputs": [],
   "source": [
    "# 4. Data ketika kasus baru lebih dari 2000 atau kematian baru lebih dari 50\n",
    "data_frame.loc[(data_frame[\"New Cases\"] > 2000) & (data_frame[\"New Deaths\"] > 50)]"
   ]
  },
  {
   "cell_type": "code",
   "execution_count": null,
   "id": "182a6a7f",
   "metadata": {},
   "outputs": [],
   "source": [
    "# 5. Data ketika kasus baru bernilai maksimum dan data ketika kasus baru \n",
    "#    bernilai minimum\n",
    "\n",
    "print('New Cases Maksimum :', data_frame.max()['New Cases'])\n",
    "print('New Cases Minimum :', data_frame.min()['New Cases'])"
   ]
  },
  {
   "cell_type": "code",
   "execution_count": null,
   "id": "a6b05f70",
   "metadata": {},
   "outputs": [],
   "source": [
    "# 6. Jangkauan Total Kasus\n",
    "maksimum = data_frame.max()\n",
    "minimum = data_frame.min()\n",
    "range = maksimum['Total Cases'] - minimum['Total Cases']\n",
    "print('Range :', range)"
   ]
  },
  {
   "cell_type": "code",
   "execution_count": null,
   "id": "93d89376",
   "metadata": {},
   "outputs": [],
   "source": [
    "# 7. Data yang diurutkan berdasarkan Case Fatality Rate secara menurun\n",
    "data_frame.sort_values(['Case Fatality Rate'], ascending=[0])"
   ]
  },
  {
   "cell_type": "code",
   "execution_count": null,
   "id": "28acd4c3",
   "metadata": {},
   "outputs": [],
   "source": [
    "# 8. Statistik sederhana data\n",
    "data_frame.describe()"
   ]
  },
  {
   "cell_type": "code",
   "execution_count": null,
   "id": "af02e39e",
   "metadata": {},
   "outputs": [],
   "source": [
    "# 9. Pandang kolom New Cases hingga Total Recovered. Dengan kolom manakah kolom\n",
    "#    New Active Cases paling berkorelasi? Tampilkan koefisien korelasinya.\n",
    "\n",
    "print(data_frame['New Active Cases'].corr(data_frame['New Cases']))\n",
    "print(data_frame['New Active Cases'].corr(data_frame['New Deaths']))\n",
    "print(data_frame['New Active Cases'].corr(data_frame['New Recovered']))\n",
    "print(data_frame['New Active Cases'].corr(data_frame['Total Cases']))\n",
    "print(data_frame['New Active Cases'].corr(data_frame['Total Deaths']))\n",
    "print(data_frame['New Active Cases'].corr(data_frame['Total Recovered']))\n",
    "\n",
    "\n",
    "# Kolom New Active Cases paling berkorelasi dengan kolom New Cases.\n",
    "# Korelasi antara kedua kolom tersebut semakin Berbanding Lurus dengan nilai \n",
    "# koefisien korelasinya : 0.7065623475058376\n"
   ]
  },
  {
   "cell_type": "code",
   "execution_count": null,
   "id": "28ac0ce2",
   "metadata": {},
   "outputs": [],
   "source": [
    "# 10. Dataframe menjadi csv baru\n",
    "data_frame.to_csv(\"covid_new.csv\")"
   ]
  },
  {
   "cell_type": "markdown",
   "id": "bdf20eb7",
   "metadata": {},
   "source": [
    "# Soal 2"
   ]
  },
  {
   "cell_type": "code",
   "execution_count": null,
   "id": "55861e10",
   "metadata": {},
   "outputs": [],
   "source": [
    "univ = pd.read_csv(\"C:/Programming Things/Data/universities.csv\")\n",
    "score = pd.read_csv(\"C:/Programming Things/Data/score_science.csv\")\n",
    "majors = pd.read_csv(\"C:/Programming Things/Data/majors.csv\")"
   ]
  },
  {
   "cell_type": "code",
   "execution_count": null,
   "id": "4dbc2f6d",
   "metadata": {},
   "outputs": [],
   "source": [
    "# universities.csv"
   ]
  },
  {
   "cell_type": "code",
   "execution_count": null,
   "id": "0697eb43",
   "metadata": {},
   "outputs": [],
   "source": [
    "# 1. Data ke-75 dan seterusnya\n",
    "univ[74:]"
   ]
  },
  {
   "cell_type": "code",
   "execution_count": null,
   "id": "ce21fc25",
   "metadata": {},
   "outputs": [],
   "source": [
    "# 2. Data ke-70 hingga ke-80\n",
    "univ[69:80]"
   ]
  },
  {
   "cell_type": "code",
   "execution_count": null,
   "id": "b6646592",
   "metadata": {},
   "outputs": [],
   "source": [
    "# 3. Data ITB\n",
    "univ.loc[(univ['university_name'] == 'INSTITUT TEKNOLOGI BANDUNG')]"
   ]
  },
  {
   "cell_type": "code",
   "execution_count": null,
   "id": "6a08813a",
   "metadata": {},
   "outputs": [],
   "source": [
    "# majors.csv"
   ]
  },
  {
   "cell_type": "code",
   "execution_count": null,
   "id": "786d1ffe",
   "metadata": {},
   "outputs": [],
   "source": [
    "# 4. Data dengan capacity maksimum serta dengan capacity minimum\n",
    "\n",
    "print('Capacity Maksimum :', majors.max()['capacity'])\n",
    "print('Capacity Minimum :', majors.min()['capacity'])"
   ]
  },
  {
   "cell_type": "code",
   "execution_count": null,
   "id": "61f83509",
   "metadata": {},
   "outputs": [],
   "source": [
    "# 5. Range dari capacity\n",
    "maksimum = majors.max()\n",
    "minimum = majors.min()\n",
    "range = maksimum['capacity'] - minimum['capacity']\n",
    "print('Range :', range)"
   ]
  },
  {
   "cell_type": "code",
   "execution_count": null,
   "id": "2149eb46",
   "metadata": {},
   "outputs": [],
   "source": [
    "# 6. Data yang universitasnya merupakan ITB, kemudian urutkan berdasarkan\n",
    "#    capacity secara menaik\n",
    "\n",
    "majors1 = majors.loc[majors['id_university'] == 332]\n",
    "majors1.sort_values(['capacity'], ascending=[1])"
   ]
  },
  {
   "cell_type": "code",
   "execution_count": null,
   "id": "cc3f79b9",
   "metadata": {},
   "outputs": [],
   "source": [
    "# 7. Frekuensi munculnya nilai kolom id_university\n",
    "\n",
    "majors['id_university'].value_counts()"
   ]
  },
  {
   "cell_type": "code",
   "execution_count": null,
   "id": "a9286b3f",
   "metadata": {},
   "outputs": [],
   "source": [
    "# score_science.csv"
   ]
  },
  {
   "cell_type": "code",
   "execution_count": null,
   "id": "65285bf3",
   "metadata": {},
   "outputs": [],
   "source": [
    "# 8. Kelompokkan data berdasarkan kolom id_first_university, kemudian \n",
    "#    tampilkan rata-rata kolom score_kua-nya\n",
    "\n",
    "score.groupby(\"id_first_university\")[\"score_kua\"].mean()\n"
   ]
  },
  {
   "cell_type": "code",
   "execution_count": null,
   "id": "c4326da0",
   "metadata": {},
   "outputs": [],
   "source": [
    "# 9. Tampilkan hanya kolom skor-skor saja\n",
    "score1 = score.loc[ : ,\"score_bio\":\"score_ppu\"]\n",
    "score1"
   ]
  },
  {
   "cell_type": "code",
   "execution_count": null,
   "id": "a3f43ab3",
   "metadata": {},
   "outputs": [],
   "source": [
    "# 10. Tampilkan statistik sederhana dari tabel yang diperoleh dari nomor 9\n",
    "score1.describe()"
   ]
  },
  {
   "cell_type": "code",
   "execution_count": null,
   "id": "1865ea5f",
   "metadata": {},
   "outputs": [],
   "source": []
  }
 ],
 "metadata": {
  "kernelspec": {
   "display_name": "Python 3",
   "language": "python",
   "name": "python3"
  },
  "language_info": {
   "codemirror_mode": {
    "name": "ipython",
    "version": 3
   },
   "file_extension": ".py",
   "mimetype": "text/x-python",
   "name": "python",
   "nbconvert_exporter": "python",
   "pygments_lexer": "ipython3",
   "version": "3.8.8"
  }
 },
 "nbformat": 4,
 "nbformat_minor": 5
}
