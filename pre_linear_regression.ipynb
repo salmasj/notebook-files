{
  "nbformat": 4,
  "nbformat_minor": 0,
  "metadata": {
    "colab": {
      "name": "TP05-19921122.ipynb",
      "provenance": [],
      "collapsed_sections": []
    },
    "kernelspec": {
      "name": "python3",
      "display_name": "Python 3"
    },
    "language_info": {
      "name": "python"
    }
  },
  "cells": [
    {
      "cell_type": "markdown",
      "metadata": {
        "id": "EonFsK0Zl_wj"
      },
      "source": [
        "Identitas Diri"
      ]
    },
    {
      "cell_type": "code",
      "metadata": {
        "id": "cunG2HnFl8rx"
      },
      "source": [
        "# Nama      : Salma Sari Juliani\n",
        "# NIM       : 19921122\n",
        "# Deskripsi : TP Pengenalan Komputasi Modul 5"
      ],
      "execution_count": null,
      "outputs": []
    },
    {
      "cell_type": "markdown",
      "metadata": {
        "id": "FXSLLzAbmSgB"
      },
      "source": [
        "Code"
      ]
    },
    {
      "cell_type": "code",
      "metadata": {
        "id": "EZi16xPWmTQG"
      },
      "source": [
        "# import\n",
        "import numpy as np\n",
        "import pandas as pd\n",
        "import matplotlib.pyplot as plt\n",
        "from sklearn.linear_model import LinearRegression\n",
        "\n",
        "data_frame = pd.read_csv('data_tp.csv')"
      ],
      "execution_count": 2,
      "outputs": []
    },
    {
      "cell_type": "code",
      "metadata": {
        "colab": {
          "base_uri": "https://localhost:8080/",
          "height": 206
        },
        "id": "rHH38d23nVjX",
        "outputId": "63c2e8d4-11e9-49c7-ee86-d4e78ab58eda"
      },
      "source": [
        "# 1. membaca 5 entri pertama data\n",
        "data_frame.head()"
      ],
      "execution_count": 3,
      "outputs": [
        {
          "output_type": "execute_result",
          "data": {
            "text/html": [
              "<div>\n",
              "<style scoped>\n",
              "    .dataframe tbody tr th:only-of-type {\n",
              "        vertical-align: middle;\n",
              "    }\n",
              "\n",
              "    .dataframe tbody tr th {\n",
              "        vertical-align: top;\n",
              "    }\n",
              "\n",
              "    .dataframe thead th {\n",
              "        text-align: right;\n",
              "    }\n",
              "</style>\n",
              "<table border=\"1\" class=\"dataframe\">\n",
              "  <thead>\n",
              "    <tr style=\"text-align: right;\">\n",
              "      <th></th>\n",
              "      <th>tinggi_anak</th>\n",
              "      <th>berat_anak</th>\n",
              "    </tr>\n",
              "  </thead>\n",
              "  <tbody>\n",
              "    <tr>\n",
              "      <th>0</th>\n",
              "      <td>134.587191</td>\n",
              "      <td>67.038205</td>\n",
              "    </tr>\n",
              "    <tr>\n",
              "      <th>1</th>\n",
              "      <td>128.436364</td>\n",
              "      <td>65.431624</td>\n",
              "    </tr>\n",
              "    <tr>\n",
              "      <th>2</th>\n",
              "      <td>110.881614</td>\n",
              "      <td>61.330833</td>\n",
              "    </tr>\n",
              "    <tr>\n",
              "      <th>3</th>\n",
              "      <td>142.553122</td>\n",
              "      <td>66.755076</td>\n",
              "    </tr>\n",
              "    <tr>\n",
              "      <th>4</th>\n",
              "      <td>125.363273</td>\n",
              "      <td>65.305394</td>\n",
              "    </tr>\n",
              "  </tbody>\n",
              "</table>\n",
              "</div>"
            ],
            "text/plain": [
              "   tinggi_anak  berat_anak\n",
              "0   134.587191   67.038205\n",
              "1   128.436364   65.431624\n",
              "2   110.881614   61.330833\n",
              "3   142.553122   66.755076\n",
              "4   125.363273   65.305394"
            ]
          },
          "metadata": {},
          "execution_count": 3
        }
      ]
    },
    {
      "cell_type": "code",
      "metadata": {
        "colab": {
          "base_uri": "https://localhost:8080/",
          "height": 295
        },
        "id": "6-u87zJXw5Ae",
        "outputId": "1c45b7e3-0cce-4d3e-fe5f-f30c68e88f09"
      },
      "source": [
        "# 2. scatter plot data \n",
        "plt.scatter(data_frame['tinggi_anak'], data_frame['berat_anak'], color='violet')\n",
        "\n",
        "plt.xlabel('Tinggi Anak')\n",
        "plt.ylabel('Berat Anak')\n",
        "plt.title('Scatter Plot Tinggi Anak vs Berat Anak')\n",
        "plt.show()"
      ],
      "execution_count": 17,
      "outputs": [
        {
          "output_type": "display_data",
          "data": {
            "image/png": "[encoded data removed]",
            "text/plain": [
              "<Figure size 432x288 with 1 Axes>"
            ]
          },
          "metadata": {
            "needs_background": "light"
          }
        }
      ]
    },
    {
      "cell_type": "code",
      "metadata": {
        "colab": {
          "base_uri": "https://localhost:8080/",
          "height": 281
        },
        "id": "f2LL4snvxwxa",
        "outputId": "ff9eb0e4-9aea-4d9e-cd5e-6e7334f12240"
      },
      "source": [
        "# 3. box plot data\n",
        "\n",
        "# box plot tinggi anak\n",
        "plt.boxplot(data_frame['tinggi_anak'])\n",
        "plt.title('Box Plot Tinggi Anak')\n",
        "plt.show()"
      ],
      "execution_count": 5,
      "outputs": [
        {
          "output_type": "display_data",
          "data": {
            "image/png": "[encoded data removed]",
            "text/plain": [
              "<Figure size 432x288 with 1 Axes>"
            ]
          },
          "metadata": {
            "needs_background": "light"
          }
        }
      ]
    },
    {
      "cell_type": "code",
      "metadata": {
        "colab": {
          "base_uri": "https://localhost:8080/",
          "height": 281
        },
        "id": "lMz29NTzyfEy",
        "outputId": "c4926bd2-bed8-4d77-ff1e-f239bf280e4a"
      },
      "source": [
        "# box plot berat anak\n",
        "plt.boxplot(data_frame['berat_anak'])\n",
        "plt.title('Box Plot Berat Anak')\n",
        "plt.show()"
      ],
      "execution_count": 6,
      "outputs": [
        {
          "output_type": "display_data",
          "data": {
            "image/png": "[encoded data removed]",
            "text/plain": [
              "<Figure size 432x288 with 1 Axes>"
            ]
          },
          "metadata": {
            "needs_background": "light"
          }
        }
      ]
    },
    {
      "cell_type": "code",
      "metadata": {
        "colab": {
          "base_uri": "https://localhost:8080/"
        },
        "id": "zfJdAahfyz4S",
        "outputId": "9b8d6756-7c05-4b61-ae22-e11675e94b82"
      },
      "source": [
        "# 4. model regresi linear\n",
        "x = data_frame['tinggi_anak'].values.reshape(-1,1)\n",
        "y = data_frame['berat_anak'].values.reshape(-1,1)\n",
        "\n",
        "hahaha = LinearRegression().fit(x,y)\n",
        "\n",
        "print('a:', hahaha.intercept_)\n",
        "print('b:', hahaha.coef_)\n",
        "print('')\n",
        "print('Maka, didapatkan persamaan :')\n",
        "print('y = 37.53029119 + 0.2206901x')"
      ],
      "execution_count": 13,
      "outputs": [
        {
          "output_type": "stream",
          "name": "stdout",
          "text": [
            "a: [37.53029119]\n",
            "b: [[0.2206901]]\n",
            "\n",
            "Maka, didapatkan persamaan :\n",
            "y = 37.53029119 + 0.2206901x\n"
          ]
        }
      ]
    },
    {
      "cell_type": "code",
      "metadata": {
        "colab": {
          "base_uri": "https://localhost:8080/",
          "height": 295
        },
        "id": "23ji3tR00n3r",
        "outputId": "a1c2b894-1e0b-44a2-ff74-22e43774c2c2"
      },
      "source": [
        "# 5. visualisasi model regresi linear dan scatter plot data asli\n",
        "regresi = hahaha.predict(x)\n",
        "\n",
        "plt.scatter(x,y, color='pink')\n",
        "plt.plot(x, regresi, color='lightgreen')\n",
        "plt.xlabel('Tinggi Badan')\n",
        "plt.ylabel('Berat Badan')\n",
        "plt.title('Plot Tinggi Badan vs Berat Badan')\n",
        "plt.show()"
      ],
      "execution_count": 16,
      "outputs": [
        {
          "output_type": "display_data",
          "data": {
            "image/png": "[encoded data removed]",
            "text/plain": [
              "<Figure size 432x288 with 1 Axes>"
            ]
          },
          "metadata": {
            "needs_background": "light"
          }
        }
      ]
    },
    {
      "cell_type": "code",
      "metadata": {
        "colab": {
          "base_uri": "https://localhost:8080/"
        },
        "id": "g18v6mya1wo1",
        "outputId": "b20bf065-aed9-4830-e18a-f9db967e73d6"
      },
      "source": [
        "# 6. nilai R-squared \n",
        "print('R-squared: ', hahaha.score(x,y))\n",
        "\n",
        "# karena nilai R-squared mendekati 1, maka model regresi yang saya gunakan \n",
        "# sudah baik dan tepat "
      ],
      "execution_count": 18,
      "outputs": [
        {
          "output_type": "stream",
          "name": "stdout",
          "text": [
            "R-squared:  0.756147841806535\n"
          ]
        }
      ]
    },
    {
      "cell_type": "code",
      "metadata": {
        "colab": {
          "base_uri": "https://localhost:8080/"
        },
        "id": "23o_Kbvl2jXS",
        "outputId": "a8ed71f8-c066-4d72-f36a-8194aaa740c0"
      },
      "source": [
        "# 7. prediksi berat anak untuk tinggi anak sebesar 150 cm dan 155 cm\n",
        "y_prediksi = hahaha.predict([[150], [155]])\n",
        "print(y_prediksi)"
      ],
      "execution_count": 22,
      "outputs": [
        {
          "output_type": "stream",
          "name": "stdout",
          "text": [
            "[[70.63380609]\n",
            " [71.73725658]]\n"
          ]
        }
      ]
    },
    {
      "cell_type": "code",
      "metadata": {
        "colab": {
          "base_uri": "https://localhost:8080/"
        },
        "id": "pmC5Xbbw3dvQ",
        "outputId": "d164ee6a-53b0-4433-9514-73890ed9ffd8"
      },
      "source": [
        "# cara manual\n",
        "a = 37.53029119 + 0.2206901*150\n",
        "s = 37.53029119 + 0.2206901*155\n",
        "\n",
        "print('saat x = 150, nilai y adalah:', a)\n",
        "print('saat x = 155, nilai y adalah:', s)"
      ],
      "execution_count": 23,
      "outputs": [
        {
          "output_type": "stream",
          "name": "stdout",
          "text": [
            "saat x = 150, nilai y adalah: 70.63380619\n",
            "saat x = 155, nilai y adalah: 71.73725669000001\n"
          ]
        }
      ]
    }
  ]
}